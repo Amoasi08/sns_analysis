{
 "cells": [
  {
   "cell_type": "code",
   "execution_count": null,
   "id": "1018bd2e-0ebc-464e-8251-171ee575f5fc",
   "metadata": {},
   "outputs": [],
   "source": [
    "import seaborn as sns\n",
    "import pandas as pd"
   ]
  },
  {
   "cell_type": "code",
   "execution_count": null,
   "id": "f13917ab-8c52-4542-8c23-a0baf158d24a",
   "metadata": {},
   "outputs": [],
   "source": [
    "# load the car crashes dataset from the seaborn library\n",
    "car = sns.load_dataset(\"car_crashes\")"
   ]
  },
  {
   "cell_type": "markdown",
   "id": "af34ae9d-8aed-407c-bb07-334216863ad5",
   "metadata": {},
   "source": [
    "## Finding meaning into the car_crashes dataset\n",
    "\n",
    "*Defining the names of the column heads*\n",
    "1. `total`: This represents the total number of car crashes that occured in a particular state.\n",
    "   This include all types of crashes.\n",
    "2. `speeding`: This represents the number of car crashes in which speeding was a contributing factor.\n",
    "3. `alcohol`: This represents the number of car crashes in which alcohol was a contributing factor.\n",
    "4. `not_distracted`: This represents the number of car crashes that occurred without the involvement of driver distraction.\n",
    "5. `no_previous`: This represents the number of car crashes involving drivers who had no previous incidents or crashes on their record.\n",
    "6. `ins_premium`: This refers to \"insurance premium\". It refers to the amount of money an individual or business pays for an insurance policy.\n",
    "7. `ins_losses`: This refers to \"insurance losses\". It refers to the average insurance losses incurred per insured driver in a given state.\n",
    "8. `abbrev`: This represents the abbreviation for all the states in the United States."
   ]
  },
  {
   "cell_type": "markdown",
   "id": "d7eed208-b7d2-4137-b85c-48d7239df1d8",
   "metadata": {},
   "source": [
    "## Data Understanding\n",
    "* head\n",
    "* dtypes\n",
    "* shape\n",
    "* describe"
   ]
  },
  {
   "cell_type": "code",
   "execution_count": null,
   "id": "973e695a-5b5b-4b1d-8346-453b0482a33e",
   "metadata": {},
   "outputs": [],
   "source": [
    "#Summarize using the head function\n",
    "\n",
    "car.head()"
   ]
  },
  {
   "cell_type": "code",
   "execution_count": null,
   "id": "cc7d8f80-fd1a-4582-a6b0-d3d446956862",
   "metadata": {},
   "outputs": [],
   "source": [
    "#What are the data types for the various columns\n",
    "\n",
    "car.dtypes"
   ]
  },
  {
   "cell_type": "code",
   "execution_count": null,
   "id": "bd6f38d7-11b7-4987-8432-d0867e4af50f",
   "metadata": {},
   "outputs": [],
   "source": [
    "# What is the shape of the dataset?\n",
    "car.shape"
   ]
  },
  {
   "cell_type": "code",
   "execution_count": null,
   "id": "03a882e7-4cb4-4dbb-b01c-abbfe8d07925",
   "metadata": {},
   "outputs": [],
   "source": [
    "# What is the summary of the car_crashes dataset?\n",
    "car.describe()"
   ]
  },
  {
   "cell_type": "markdown",
   "id": "3bff7c08-ebaa-43bc-86cf-8f68c9197478",
   "metadata": {},
   "source": [
    "## Asking Questions"
   ]
  },
  {
   "cell_type": "code",
   "execution_count": null,
   "id": "c0e199ca-4a2f-4ab2-86fd-2183d71601e3",
   "metadata": {},
   "outputs": [],
   "source": [
    "# 1. Locate row with the highest of total car crashes?\n",
    "\n",
    "car.loc[car['total'].idxmax()]"
   ]
  },
  {
   "cell_type": "code",
   "execution_count": null,
   "id": "c1d4f696-a8ff-4fe0-9ee8-0234b97be51e",
   "metadata": {},
   "outputs": [],
   "source": [
    "# 2. Locate row with the lowest number of total car crashes?\n",
    "\n",
    "car.loc[car['total'].idxmin()]"
   ]
  },
  {
   "cell_type": "code",
   "execution_count": null,
   "id": "4e243ce5-7217-4ba6-8b51-f66857690615",
   "metadata": {},
   "outputs": [],
   "source": [
    "# 3. Which states have the highest and lowest number of total car crashes?\n",
    "highest_crashes = car.loc[car['total'].idxmax(), 'total']\n",
    "state_max = car.loc[car['total'].idxmax(), 'abbrev']\n",
    "\n",
    "lowest_crashes = car.loc[car['total'].idxmin(), 'total']\n",
    "state_min = car.loc[car['total'].idxmin(), 'abbrev']\n",
    "\n",
    "print(f\"{state_max} has the highest car crashes with {highest_crashes}\")\n",
    "print(f\"{state_min} has the lowest car crashes with {lowest_crashes}\")"
   ]
  },
  {
   "cell_type": "code",
   "execution_count": null,
   "id": "befaa9c9-4455-4aa7-9cba-2514353d2fa0",
   "metadata": {},
   "outputs": [],
   "source": [
    "# 4. Top 10 states with the highest payment of insurances.\n",
    "\n",
    "highest_ins = car.sort_values(by='ins_losses', ascending=False).head(10)\n",
    "\n",
    "print(highest_ins[['abbrev','ins_losses']])"
   ]
  },
  {
   "cell_type": "code",
   "execution_count": null,
   "id": "5885ada5-4f59-4e7f-a37b-9b82e634412a",
   "metadata": {},
   "outputs": [],
   "source": [
    "# 5.What is the correlation between alcohol consumption and the number of crashes?\n",
    "\n",
    "# Calculate the correlation between alcohol consumption and the number of crashes\n",
    "correlation = car['alcohol'].corr(car['total'])\n",
    "\n",
    "print(f\"The correlation between alcohol consumption and the number of crashes is: {correlation}\")"
   ]
  },
  {
   "cell_type": "code",
   "execution_count": null,
   "id": "c850235b-f1d2-43a0-96d1-57b8da83419a",
   "metadata": {},
   "outputs": [],
   "source": [
    "# 6. Filter the dateset with insurance premium greater than 900\n",
    "\n",
    "filtered_ins = car[car[\"ins_premium\"] > 1000]\n",
    "print(filtered_ins)"
   ]
  },
  {
   "cell_type": "code",
   "execution_count": null,
   "id": "ebd4f9bd-88ce-4109-a6c7-034123fe99d2",
   "metadata": {},
   "outputs": [],
   "source": [
    "# 7.Filter using AND (&) OR |\n",
    "\n",
    "#Filter the dataset with ins_losses greater than 150 and the total less than 16\n",
    "\n",
    "filter_ins_total = car[(car[\"ins_losses\"] < 150) & (car[\"total\"] > 16)]\n",
    "filter_ins_total"
   ]
  },
  {
   "cell_type": "code",
   "execution_count": null,
   "id": "9529f489-e420-49b1-983d-93f828b44615",
   "metadata": {},
   "outputs": [],
   "source": [
    "# 8.Filter using ISIN\n",
    "\n",
    "#filter States where \"abbrev\" isin \"DC\",\"NY\",\"LA\", and \"CA\"\n",
    "\n",
    "filter_states = car[car[\"abbrev\"].isin([\"DC\", \"NY\", \"LA\", \"CA\"])]\n",
    "filter_states"
   ]
  }
 ],
 "metadata": {
  "kernelspec": {
   "display_name": "Python 3 (ipykernel)",
   "language": "python",
   "name": "python3"
  },
  "language_info": {
   "codemirror_mode": {
    "name": "ipython",
    "version": 3
   },
   "file_extension": ".py",
   "mimetype": "text/x-python",
   "name": "python",
   "nbconvert_exporter": "python",
   "pygments_lexer": "ipython3",
   "version": "3.12.7"
  }
 },
 "nbformat": 4,
 "nbformat_minor": 5
}
